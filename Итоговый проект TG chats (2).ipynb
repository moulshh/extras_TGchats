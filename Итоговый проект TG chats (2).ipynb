{
 "cells": [
  {
   "cell_type": "markdown",
   "id": "dff302ab",
   "metadata": {},
   "source": [
    "# Анализ самых популярных Telegram чатов по поиску массовки"
   ]
  },
  {
   "cell_type": "markdown",
   "id": "7947b061",
   "metadata": {},
   "source": [
    "В своем итоговом проекте я буду использовать **архивы чатов Telegram в формате JSON.**\n",
    "\n",
    "*Предварительные шаги:*\n",
    "\n",
    "С самого начала я определила какая будет общая тематика. После этого, нужно было найти чаты, подходящие под нее. Я пользовалась поиском в Telegram и искала при помощи ключевых слов \"массовка\", \"массовки\". Из результатов я решила взять три самых больших по количеству участников Telegram чата с темой поиска массовки."
   ]
  },
  {
   "cell_type": "code",
   "execution_count": null,
   "id": "8f86b026",
   "metadata": {},
   "outputs": [],
   "source": [
    "# Импортируем необходимые библиотеки и модули для работы\n",
    "\n",
    "import numpy as np\n",
    "import pandas as pd\n",
    "import matplotlib.pyplot as plt\n",
    "import json\n",
    "import re\n",
    "import emojis"
   ]
  },
  {
   "cell_type": "markdown",
   "id": "c93b0236",
   "metadata": {},
   "source": [
    "### Архив первого Telegram чата: Платная массовка. Конкретика. Москва"
   ]
  },
  {
   "cell_type": "code",
   "execution_count": null,
   "id": "f62bc56e",
   "metadata": {},
   "outputs": [],
   "source": [
    "cd \"C:\\Users\\USER\\Downloads\\Telegram Desktop\\ChatExport_2025-03-22\""
   ]
  },
  {
   "cell_type": "code",
   "execution_count": null,
   "id": "a9ae471a",
   "metadata": {},
   "outputs": [],
   "source": [
    "# Cчитывание содержимое файла 'result.json' первого чата в формате JSON, сохранение данных в переменной data\n",
    "f = open('result.json', 'r', encoding='utf-8')\n",
    "data = json.load(f)\n",
    "f.close()\n",
    "data"
   ]
  },
  {
   "cell_type": "code",
   "execution_count": null,
   "id": "fc525252",
   "metadata": {},
   "outputs": [],
   "source": [
    "# Словарь для датафрейма\n",
    "d = {'date':[], 'from':[], 'text':[]}\n",
    "\n",
    "# По каждому сообщению из загруженных данных проверяем, является ли тип сообщения 'message'\n",
    "for message in data['messages']:\n",
    "    if message['type'] == 'message':\n",
    "        \n",
    "# Добавляем дату сообщения в список 'date', идентификатор отправителя в список 'from'\n",
    "        d['date'].append(message['date'])\n",
    "        d['from'].append(message['from_id'])\n",
    "\n",
    "# Проверяем, есть ли текст сообщения\n",
    "        if 'text' in message:\n",
    "            d['text'].append(message['text'])\n",
    "        else:\n",
    "            d['text'].append('')\n",
    "    else:\n",
    "        print(message) # то, что не относится к сообщениям"
   ]
  },
  {
   "cell_type": "code",
   "execution_count": null,
   "id": "7b5c78e5",
   "metadata": {},
   "outputs": [],
   "source": [
    "# Создаем датафрейм по словарю\n",
    "df = pd.DataFrame(d)\n",
    "df"
   ]
  },
  {
   "cell_type": "code",
   "execution_count": null,
   "id": "7021d84d",
   "metadata": {},
   "outputs": [],
   "source": [
    "# Удаляем ссылки из df и преобразуем list в str\n",
    "for idx in df.index:\n",
    "    if type(df.loc[idx, 'text']) == list:\n",
    "        new_string = ''\n",
    "        for elem in df.loc[idx, 'text']:\n",
    "            if type(elem) == str:\n",
    "                new_string += elem\n",
    "        df.loc[idx, 'text'] = new_string\n",
    "\n",
    "# Оставляем только сообщения с текстом\n",
    "df = df[df['text'] != ''] \n",
    "df"
   ]
  },
  {
   "cell_type": "markdown",
   "id": "dcdaf05f",
   "metadata": {},
   "source": [
    "### Архив второго Telegram чата: Массовка АМС"
   ]
  },
  {
   "cell_type": "code",
   "execution_count": null,
   "id": "09d494d8",
   "metadata": {},
   "outputs": [],
   "source": [
    "cd \"C:\\Users\\USER\\Downloads\\Telegram Desktop\\ChatExport_2025-03-22 (1)\""
   ]
  },
  {
   "cell_type": "code",
   "execution_count": null,
   "id": "a947bcf1",
   "metadata": {},
   "outputs": [],
   "source": [
    "# Cчитывание содержимое файла 'result.json' второго чата в формате JSON, сохранение данных в переменной data\n",
    "f = open('result.json', 'r', encoding='utf-8')\n",
    "data = json.load(f)\n",
    "f.close()\n",
    "data"
   ]
  },
  {
   "cell_type": "code",
   "execution_count": null,
   "id": "56160beb",
   "metadata": {},
   "outputs": [],
   "source": [
    "# Словарь для датафрейма\n",
    "d1 = {'date':[], 'from':[], 'text':[]}\n",
    "\n",
    "# По каждому сообщению из загруженных данных проверяем, является ли тип сообщения 'message'\n",
    "for message in data['messages']:\n",
    "    if message['type'] == 'message':\n",
    "\n",
    "# Добавляем дату сообщения в список 'date', идентификатор отправителя в список 'from'       \n",
    "        d1['date'].append(message['date'])\n",
    "        d1['from'].append(message['from_id'])\n",
    "        \n",
    "# Проверяем, есть ли текст сообщения        \n",
    "        if 'text' in message:\n",
    "            d1['text'].append(message['text'])\n",
    "        else:\n",
    "            d1['text'].append('')\n",
    "    else:\n",
    "        print(message) # то, что не относится к сообщениям"
   ]
  },
  {
   "cell_type": "code",
   "execution_count": null,
   "id": "3cf184ec",
   "metadata": {},
   "outputs": [],
   "source": [
    "# Создаем датафрейм для второго чата по словарю\n",
    "df1 = pd.DataFrame(d1)\n",
    "df1"
   ]
  },
  {
   "cell_type": "code",
   "execution_count": null,
   "id": "26604e67",
   "metadata": {
    "scrolled": false
   },
   "outputs": [],
   "source": [
    "# Удалим ссылки из df и преобразуем list в str\n",
    "for idx in df1.index:\n",
    "    if type(df1.loc[idx, 'text']) == list:\n",
    "        new_string = ''\n",
    "        for elem in df1.loc[idx, 'text']:\n",
    "            if type(elem) == str:\n",
    "                new_string += elem\n",
    "        df1.loc[idx, 'text'] = new_string\n",
    "\n",
    "# Оставим только сообщения с текстом\n",
    "df1 = df1[df1['text'] != ''] \n",
    "df1"
   ]
  },
  {
   "cell_type": "markdown",
   "id": "46baea3c",
   "metadata": {},
   "source": [
    "### Архив третьего Telegram чата: Массовки present | Кастинги и съемки"
   ]
  },
  {
   "cell_type": "code",
   "execution_count": null,
   "id": "6fb2a17f",
   "metadata": {},
   "outputs": [],
   "source": [
    "cd \"C:\\Users\\USER\\Downloads\\Telegram Desktop\\ChatExport_2025-03-22 (3)\""
   ]
  },
  {
   "cell_type": "code",
   "execution_count": null,
   "id": "051f48fd",
   "metadata": {},
   "outputs": [],
   "source": [
    "f = open('result.json', 'r', encoding='utf-8')\n",
    "data = json.load(f)\n",
    "f.close()\n",
    "data"
   ]
  },
  {
   "cell_type": "code",
   "execution_count": null,
   "id": "e0f77490",
   "metadata": {},
   "outputs": [],
   "source": [
    "# Словарь для датафрейма\n",
    "d2 = {'date':[], 'from':[], 'text':[]}\n",
    "\n",
    "# По каждому сообщению из загруженных данных проверяем, является ли тип сообщения 'message'\n",
    "for message in data['messages']:\n",
    "    if message['type'] == 'message':\n",
    "\n",
    "# Добавляем дату сообщения в список 'date', идентификатор отправителя в список 'from'       \n",
    "        d2['date'].append(message['date'])\n",
    "        d2['from'].append(message['from_id'])\n",
    "        \n",
    "# Проверяем, есть ли текст сообщения        \n",
    "        if 'text' in message:\n",
    "            d2['text'].append(message['text'])\n",
    "        else:\n",
    "            d2['text'].append('')\n",
    "    else:\n",
    "        print(message) # то, что не относится к сообщениям"
   ]
  },
  {
   "cell_type": "code",
   "execution_count": null,
   "id": "8cfc586c",
   "metadata": {},
   "outputs": [],
   "source": [
    "df2 = pd.DataFrame(d2)\n",
    "df2"
   ]
  },
  {
   "cell_type": "code",
   "execution_count": null,
   "id": "f302667d",
   "metadata": {},
   "outputs": [],
   "source": [
    "# Удалим ссылки из df и преобразуем list в str\n",
    "for idx in df2.index:\n",
    "    if type(df2.loc[idx, 'text']) == list:\n",
    "        new_string = ''\n",
    "        for elem in df2.loc[idx, 'text']:\n",
    "            if type(elem) == str:\n",
    "                new_string += elem\n",
    "        df2.loc[idx, 'text'] = new_string\n",
    "\n",
    "# Оставим только сообщения с текстом\n",
    "df2 = df2[df2['text'] != ''] \n",
    "df2"
   ]
  },
  {
   "cell_type": "markdown",
   "id": "f6776819",
   "metadata": {},
   "source": [
    "### Единый датафрейм по всем трем Telegram чатам"
   ]
  },
  {
   "cell_type": "code",
   "execution_count": null,
   "id": "c91d8e30",
   "metadata": {},
   "outputs": [],
   "source": [
    "# Собираем все три датафрейма в единый\n",
    "result_df = pd.concat([df, df1, df2], ignore_index=True)\n",
    "result_df"
   ]
  },
  {
   "cell_type": "code",
   "execution_count": null,
   "id": "636746aa",
   "metadata": {},
   "outputs": [],
   "source": [
    "# Преобразуем колонку 'date' в datetime\n",
    "result_df['date'] = pd.to_datetime(result_df['date'], format='%Y-%m-%dT%H:%M:%S')\n",
    "\n",
    "# Создание новых колонок в датафрейме: длина текста, наличие оплаты, пол нужного актера, длина смены.\n",
    "result_df['len_text'] = result_df.text.str.len()\n",
    "result_df['count_emoji'] = result_df['text'].apply(lambda s: emojis.count(str(s)))\n",
    "result_df['payment_status'] = result_df['text'].apply(lambda x: 'С оплатой' if isinstance(x, str) and any(word in x.lower() for word in ['гонорар', 'оплата']) else 'Без оплаты')\n",
    "result_df['gender_needed'] = result_df['text'].apply(lambda x: 'Ж' if isinstance(x, str) and any(word in x.lower() for word in ['женщины','женщина','девушки','девушка','девочки','девочка']) else 'М')\n",
    "result_df['shift'] = result_df['text'].apply(lambda x: 'Весь день' if isinstance(x, str) and 'полная смена' in x.lower() else 'Частично')\n",
    "result_df"
   ]
  },
  {
   "cell_type": "markdown",
   "id": "9c183e61",
   "metadata": {},
   "source": [
    "### Exploratory data analysis"
   ]
  },
  {
   "cell_type": "code",
   "execution_count": null,
   "id": "6be28603",
   "metadata": {},
   "outputs": [],
   "source": [
    "# Среднее значение по колонке 'len_text'\n",
    "mean_len_text = result_df['len_text'].mean()\n",
    "print(mean_len_text)"
   ]
  },
  {
   "cell_type": "code",
   "execution_count": null,
   "id": "703d94b8",
   "metadata": {},
   "outputs": [],
   "source": [
    "# Медиана по колонке 'len_text'\n",
    "median_len_text = result_df['len_text'].median()\n",
    "print(median_len_text)"
   ]
  },
  {
   "cell_type": "code",
   "execution_count": null,
   "id": "dda7e676",
   "metadata": {},
   "outputs": [],
   "source": [
    "# Сводная таблица по 'gender_needed' и 'payment_status'\n",
    "pivot_gender_payment = result_df.pivot_table(index='gender_needed', columns='payment_status', values='text', aggfunc='count', fill_value=0)\n",
    "\n",
    "print(pivot_gender_payment)\n"
   ]
  },
  {
   "cell_type": "markdown",
   "id": "2a4e8075",
   "metadata": {},
   "source": [
    "**Исходя из таблицы, можно сделать несколько выводов:**\n",
    "\n",
    "1. Чаще всего для массовки ищут актеров - мужчин\n",
    "2. Для женского пола участие в массовке оплачивается почти всегда\n",
    "3. Для мужского пола большинство участия также оплачивается"
   ]
  },
  {
   "cell_type": "code",
   "execution_count": null,
   "id": "3ce78fab",
   "metadata": {},
   "outputs": [],
   "source": [
    "# Группировка по дате и подсчет среднего значения длины текста\n",
    "grouped_by_date = result_df.groupby(result_df['date'].dt.date)['len_text'].mean()\n",
    "\n",
    "print(grouped_by_date)\n"
   ]
  },
  {
   "cell_type": "markdown",
   "id": "5288c30e",
   "metadata": {},
   "source": [
    "**Вывод:**\n",
    "\n",
    "Средняя длина текста может варьироваться от дня к дню. В некоторые дни длина текста значительно выше (606.434783), а в другие дни — ниже (40.000000). На это, возможно, могут влиять изменения в активности пользователей или особенности контента, отправляемого в разные дни."
   ]
  },
  {
   "cell_type": "code",
   "execution_count": null,
   "id": "4548ebe0",
   "metadata": {},
   "outputs": [],
   "source": [
    "# Сводная таблица по 'from' и подсчет количества записей\n",
    "pivot_from_count = result_df.pivot_table(index='from', values='text', aggfunc='count', fill_value=0)\n",
    "\n",
    "print(pivot_from_count)\n"
   ]
  },
  {
   "cell_type": "markdown",
   "id": "7e61c2c9",
   "metadata": {},
   "source": [
    "**Вывод**:\n",
    "\n",
    "Большое количество записей обычно публикуется от имени канала, скорее всего, через админа. Возможно, такие посты наиболее проверены."
   ]
  },
  {
   "cell_type": "code",
   "execution_count": null,
   "id": "7eff9e58",
   "metadata": {},
   "outputs": [],
   "source": [
    "# Сводная таблица по 'shift' и 'payment_status'\n",
    "pivot_payment_shift = result_df.pivot_table(index='shift', columns='payment_status', values='text', aggfunc='count', fill_value=0)\n",
    "\n",
    "print(pivot_payment_shift)"
   ]
  },
  {
   "cell_type": "markdown",
   "id": "8939b866",
   "metadata": {},
   "source": [
    "**Выводы**:\n",
    "\n",
    "1. Наиболее популярны неполные смены c оплатой\n",
    "2. На втором месте — неполные смены без оплаты\n",
    "3. Два предыдущих вывода могут говорить о том, что актеры не готовы/устают отрабатывать полноценную смену"
   ]
  },
  {
   "cell_type": "code",
   "execution_count": null,
   "id": "0e267afd",
   "metadata": {},
   "outputs": [],
   "source": [
    "# Группировка по 'payment_status' и подсчет количества записей\n",
    "count_by_payment_status = result_df.groupby('payment_status').size().reset_index(name='count')\n",
    "\n",
    "# Выводим результат\n",
    "print(count_by_payment_status)"
   ]
  },
  {
   "cell_type": "markdown",
   "id": "69d7d876",
   "metadata": {},
   "source": [
    "**Вывод**:\n",
    "\n",
    "Количество записей с статусом \"С оплатой\" превышает количество записей с статусом \"Без оплаты\". Это может указывать на то, что все же АМС чаще всего получают выплаты за свою работу.\n"
   ]
  },
  {
   "cell_type": "markdown",
   "id": "6d9c16b9",
   "metadata": {},
   "source": [
    "### Визуализация"
   ]
  },
  {
   "cell_type": "code",
   "execution_count": null,
   "id": "39e557e5",
   "metadata": {},
   "outputs": [],
   "source": [
    "import pandas as pd\n",
    "import matplotlib.pyplot as plt\n",
    "\n",
    "# Визуализация распределения длины текста\n",
    "plt.hist(result_df['len_text'], edgecolor='black')\n",
    "plt.title('Распределение длины текста')\n",
    "plt.xlabel('Длина текста')\n",
    "plt.ylabel('Частота')\n",
    "plt.show()"
   ]
  },
  {
   "cell_type": "markdown",
   "id": "a9d4e61d",
   "metadata": {},
   "source": [
    "**Вывод:** \n",
    "\n",
    "Самая частая длина текста не превышает 1000 знаков."
   ]
  },
  {
   "cell_type": "code",
   "execution_count": null,
   "id": "99e3f637",
   "metadata": {},
   "outputs": [],
   "source": [
    "# Визуализация распределения количества эмоджи\n",
    "plt.hist(result_df['count_emoji'], edgecolor='black')\n",
    "plt.title('Распределение количества эмоджи')\n",
    "plt.xlabel('Количество эмоджи')\n",
    "plt.ylabel('Частота')\n",
    "plt.show()"
   ]
  },
  {
   "cell_type": "markdown",
   "id": "c1dba5e2",
   "metadata": {},
   "source": [
    "**Вывод**:\n",
    "\n",
    "Обычно в тексте не наблюдается больше чем 20 эмоджи."
   ]
  },
  {
   "cell_type": "markdown",
   "id": "9ab7ec69",
   "metadata": {},
   "source": [
    "# Результаты"
   ]
  },
  {
   "cell_type": "markdown",
   "id": "ec304e3f",
   "metadata": {},
   "source": [
    "В результате проекта был создан для каждого чата свой датафрейм, почищен текст сообщений от ссылок. После, несколько датафреймов были объединены по чатам в один общий. Единый датафрейм был преобразован: добавлены новые различные колонки, чтобы сделать его более обширным. Далее был также проведен разведочный анализ, сделаны соответствующие выводы. Были визуализированы основные числовые показатели, чтобы посмотреть топы по частоте, также сопровождены выводами. Результаты и исходные данные доступны в публичном репозитории."
   ]
  }
 ],
 "metadata": {
  "kernelspec": {
   "display_name": "Python 3 (ipykernel)",
   "language": "python",
   "name": "python3"
  },
  "language_info": {
   "codemirror_mode": {
    "name": "ipython",
    "version": 3
   },
   "file_extension": ".py",
   "mimetype": "text/x-python",
   "name": "python",
   "nbconvert_exporter": "python",
   "pygments_lexer": "ipython3",
   "version": "3.11.5"
  }
 },
 "nbformat": 4,
 "nbformat_minor": 5
}
